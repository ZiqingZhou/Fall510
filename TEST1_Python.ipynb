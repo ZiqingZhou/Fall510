{
 "cells": [
  {
   "cell_type": "markdown",
   "metadata": {},
   "source": [
    "#1"
   ]
  },
  {
   "cell_type": "code",
   "execution_count": 19,
   "metadata": {
    "collapsed": false
   },
   "outputs": [
    {
     "name": "stdout",
     "output_type": "stream",
     "text": [
      "8.0\n",
      "6.0\n"
     ]
    }
   ],
   "source": [
    "'''\n",
    "Write functions polygperim(coords) that compute the perimeter of the polygon.\n",
    "My idea is to use the formula calculating distance between two points and then add up \n",
    "all the distance together in order to caluculate the perimeter.\n",
    "'''\n",
    "def polygperim (coords): #Define a function which can output perimeter of a polygon when inputting the coordinates of all vertices.\n",
    "    perimeter = ((coords[0][0]-coords[0][len(coords[0])-1])**2+(coords[1][0]-coords[1][len(coords[0])-1])**2)**0.5\n",
    "    # This line of code is used to calculate the side which connects the first point and the last point. The input \n",
    "    # coordinates consist of two parts: x values and y values. [0][0] means the first value of x-axis and \n",
    "    # [0][len(coords[0])-1] means the last value of x-axis. [1][0] means the first value of y-axis and [1][len(coords[0])-1]\n",
    "    # means the last value of y-axis.Then using the formula of distance we can calculate the distance between the first point\n",
    "    # and the last point.If without this line, the loop below will calculate one more side of the polygon.\n",
    "\n",
    "    for i in range((len(coords[0])-1)):# Define the range of i. For example, if the polygon is a square, then i is from 0 to 3.\n",
    "        perimeter+=((coords[0][i]-coords[0][i+1])**2+(coords[1][i]-coords[1][i+1])**2)**0.5\n",
    "    # This loop is used to calculate all the length of sides of polygon and then add up together to get the perimeter.[0][i] \n",
    "    # and [0][i+1] stand for the x value of two adjacent points. [1][i] and [1][i+1] stand for the y value of two adjacent points. \n",
    "    # Use the formula of distance to add up the perimeter. \n",
    "    print (perimeter) # Output the result of perimeter of polygon.\n",
    "\n",
    "polygperim(([0,2,2,0],[0,0,2,2])) # Test the polygperim function on a square.\n",
    "polygperim(([0,2,1],[0,0,3**0.5])) # Test the polygperim function on an equilateral triangle."
   ]
  },
  {
   "cell_type": "code",
   "execution_count": 25,
   "metadata": {
    "collapsed": false
   },
   "outputs": [
    {
     "name": "stdout",
     "output_type": "stream",
     "text": [
      "4.0\n",
      "1.7320508075688772\n"
     ]
    }
   ],
   "source": [
    "'''\n",
    "Write functions polygarea(coords) that compute the area of the polygon.\n",
    "My idea is to use the Green's theorem to calculate the area of polygon.\n",
    "'''\n",
    "def polygarea (coords):#Define a function which can output area of a polygon when inputting the coordinates of all vertices.\n",
    "    area = coords[1][0]*coords[0][len(coords[0])-1]-coords[0][0]*coords[1][len(coords[0])-1]\n",
    "    # [1][0] means the first value of y-axis. [0][len(coords[0])-1] means the last value of x-axis.[0][0] means the first \n",
    "    # value of x-axis. [1][len(coords[0])-1] means the last value of y-axis. Refer to the formula of Green's theorem, this\n",
    "    # line of code is y1*xn - x1*yn.\n",
    "    \n",
    "    for i in range ((len(coords[0])-1)): # Define the range of i. For example, if the polygon is a square, then i is from 0 to 3.\n",
    "        area += coords[1][i+1]*coords[0][i]-coords[0][i+1]*coords[1][i]\n",
    "    # This loop is used to calculate all parts of xk*yk+1-xk+1*yk and then add up together to get the area.[0][i] \n",
    "    # and [0][i+1] stand for the x value of two adjacent points. [1][i] and [1][i+1] stand for the y value of two adjacent points. \n",
    "    # Use the loop to add up all parts for i from 0 to 3.\n",
    "    area=0.5*abs(area) # According to the formula of Green's theorem, the result after looping must take the absolute \n",
    "    # and then times 0.5. abs() is used to take the absolute value.\n",
    "    print (area)# Output the result of area of polygon.\n",
    "\n",
    "polygarea(([0,2,2,0],[0,0,2,2])) # Test the polygarea function on a square.\n",
    "polygarea(([0,2,1],[0,0,3**0.5])) # Test the polygarea function on an equilateral triangle."
   ]
  },
  {
   "cell_type": "code",
   "execution_count": null,
   "metadata": {
    "collapsed": true
   },
   "outputs": [],
   "source": []
  }
 ],
 "metadata": {
  "kernelspec": {
   "display_name": "Python 3",
   "language": "python",
   "name": "python3"
  },
  "language_info": {
   "codemirror_mode": {
    "name": "ipython",
    "version": 3
   },
   "file_extension": ".py",
   "mimetype": "text/x-python",
   "name": "python",
   "nbconvert_exporter": "python",
   "pygments_lexer": "ipython3",
   "version": "3.4.3"
  }
 },
 "nbformat": 4,
 "nbformat_minor": 0
}
